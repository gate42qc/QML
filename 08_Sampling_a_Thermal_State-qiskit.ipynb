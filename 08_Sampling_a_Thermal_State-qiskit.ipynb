{
    "cells": [
        {
            "cell_type": "markdown",
            "metadata": {
                "collapsed": true
            },
            "source": [
                "In the previous notebook, we showed how QAOA can approximate the ground state $|\\psi_0\\rangle$ of a many-body system characterized by a Hamiltonian $H$. We connected this problem to binary optimization in computer science in notebook 4, and used this connection to understand adiabatic quantum computing and variational algorithms.\n",
                "\n",
                "However, we also talked about the engineering constraints we face in real devices: the evolution in these devices is actually that of an open quantum system, where the quantum processing unit interacts with the environment. In that case, the ground state of $H$ won't be a pure state $|\\psi_0\\rangle$ but a density matrix $\\rho_0$\n",
                "\n",
                "<img src=\"figures\/open_system.svg\" alt=\"A quantum processor as an open quantum system\" style=\"width: 400px;\"\/>\n",
                "\n",
                "The environment is defined by a temperature $T$, and if we let the system equilibrate, the QPU will become thermalized at temperature $T$. As we saw in the notebook on evolution in open and closed systems, the energy of the states will follow a Boltzmann distribution: $\\rho_0=\\frac{1}{Z} e^{-H\/T}$ where $Z=tr (e^{-H\/T})$ is a normalization factor (called *partition function*), ensuring that $tr(\\rho_0)=1$. The inverse temperature $1\/T$ is often denoted by $\\beta$, so the state can also be written as $\\rho_0=\\frac{1}{Z} e^{-\\beta H}$. If $H$ has a discrete basis of orthonormal eigenstates $\\{|n\\rangle\\}$ with eigenvalues $\\{E_n\\}$, we can write $H=\\sum_n E_n |n\\rangle \\langle n|$ and $\\rho_0=\\frac{1}{Z} \\sum_n e^{-E_n\/T} |n\\rangle \\langle n|$ (since exponentiating a diagonal operator consists in exponentiating the elements of the diagonal). Hence, the thermal density matrix is a mixed state where each eigenstate of $H$ with energy $E$ has a classical probability $P(E)=\\frac{1}{Z} e^{-E\/T}$, a Boltzmann distribution. We can see that the minimum energy eigenstate will have the highest probability. When $T \\rightarrow 0$, the minimum energy eigenstate will have a probability close to $1$. When $T \\rightarrow \\infty$, all the eigenstates tend to have equal probability.\n",
                "\n",
                "The question that arises now is: how to approximate this thermalized state $\\rho_0$ of the Hamiltonian $H$ using a quantum circuit? For pure ground states, there were two methods: quantum annealing and QAOA. We will see here that those two methods can be adjusted to also prepare thermalized density matrices.\n",
                "\n",
                "We will see later that we can use this preparation to train certain machine learning models.\n",
                "\n",
                "# Quantum annealing\n",
                "\n",
                "Let us start by importing a handful of packages:"
            ]
        },
        {
            "cell_type": "code",
            "execution_count": null,
            "metadata": {
                "ExecuteTime": {
                    "end_time": "2018-11-19T20:10:00.429323Z",
                    "start_time": "2018-11-19T20:10:00.423825Z"
                }
            },
            "outputs": [],
            "source": [
                "import itertools\n",
                "import matplotlib.pyplot as plt\n",
                "import numpy as np\n",
                "import dimod\n",
                "%matplotlib inline\n",
                "np.set_printoptions(precision=3, suppress=True)"
            ]
        },
        {
            "cell_type": "markdown",
            "metadata": {},
            "source": [
                "We are interested in the thermal state of the classical Ising model. We create a random model over ten spins and we will sample a hundred states."
            ]
        },
        {
            "cell_type": "code",
            "execution_count": null,
            "metadata": {
                "ExecuteTime": {
                    "end_time": "2018-11-19T20:10:00.449815Z",
                    "start_time": "2018-11-19T20:10:00.437909Z"
                }
            },
            "outputs": [],
            "source": [
                "n_spins = 10\n",
                "n_samples = 1000\n",
                "h = {v: np.random.uniform(-2, 2) for v in range(n_spins)}\n",
                "J = {}\n",
                "for u, v in itertools.combinations(h, 2):\n",
                "    if np.random.random() < .05:\n",
                "        J[(u, v)] = np.random.uniform(-1, 1)\n",
                "model = dimod.BinaryQuadraticModel(h, J, 0.0, dimod.SPIN)\n",
                "sampler = dimod.SimulatedAnnealingSampler()        "
            ]
        },
        {
            "cell_type": "markdown",
            "metadata": {},
            "source": [
                "Let's sample the energies at different temperatures. The `dimod` implementation of simulated annealing allows us to set an initial and final temperature for the annealing. If we set it to the same value, we mimic the effect of a finite temperature and we will have a wider range of configurations and energy levels in the samples. The next cell can take a while to execute."
            ]
        },
        {
            "cell_type": "code",
            "execution_count": null,
            "metadata": {
                "ExecuteTime": {
                    "end_time": "2018-11-19T20:11:12.304140Z",
                    "start_time": "2018-11-19T20:10:00.452460Z"
                }
            },
            "outputs": [],
            "source": [
                "temperature_0 = 1\n",
                "response = sampler.sample(model, beta_range=[1\/temperature_0, 1\/temperature_0], num_reads=n_samples)\n",
                "energies_0 = [solution.energy for solution in response.data()]\n",
                "temperature_1 = 10\n",
                "response = sampler.sample(model, beta_range=[1\/temperature_1, 1\/temperature_1], num_reads=n_samples)\n",
                "energies_1 = [solution.energy for solution in response.data()]\n",
                "temperature_2 = 100\n",
                "response = sampler.sample(model, beta_range=[1\/temperature_2, 1\/temperature_2], num_reads=n_samples)\n",
                "energies_2 = [solution.energy for solution in response.data()]"
            ]
        },
        {
            "cell_type": "markdown",
            "metadata": {},
            "source": [
                "We define a function to plot the resulting probability distribution."
            ]
        },
        {
            "cell_type": "code",
            "execution_count": null,
            "metadata": {
                "ExecuteTime": {
                    "end_time": "2018-11-19T20:11:12.764017Z",
                    "start_time": "2018-11-19T20:11:12.307684Z"
                }
            },
            "outputs": [],
            "source": [
                "def plot_probabilities(energy_samples, temperatures):\n",
                "    fig, ax = plt.subplots()\n",
                "    for i, (energies, T) in enumerate(zip(energy_samples, temperatures)):\n",
                "        probabilities = np.exp(-np.array(sorted(energies))\/T)\n",
                "        Z = probabilities.sum()\n",
                "        probabilities \/= Z\n",
                "        ax.plot(energies, probabilities, linewidth=3, label = \"$T_\" + str(i+1)+\"$\")\n",
                "    minimum_energy = min([min(energies) for energies in energy_samples])\n",
                "    maximum_energy = max([max(energies) for energies in energy_samples])\n",
                "    ax.set_xlim(minimum_energy, maximum_energy)\n",
                "    ax.set_xticks([])\n",
                "    ax.set_yticks([])\n",
                "    ax.set_xlabel('Energy')\n",
                "    ax.set_ylabel('Probability')\n",
                "    ax.legend()\n",
                "    plt.show()\n",
                "\n",
                "plot_probabilities([energies_0, energies_1, energies_2], \n",
                "                   [temperature_0, temperature_1, temperature_2])"
            ]
        },
        {
            "cell_type": "markdown",
            "metadata": {},
            "source": [
                "Just as we saw in the introduction, the distribution flattens out at a high temperature ($T_3$). On the other hand, the energy is peaked for a low temperature, and we do not even have samples for high-energy states."
            ]
        },
        {
            "cell_type": "markdown",
            "metadata": {},
            "source": [
                "# Quantum Approximate Thermalization\n",
                "\n",
                "There are many results for preparing a thermal state on a gate-model quantum computer, but most of them need a large-scale device. More recently, a protocol for approximating thermalization was developed using shallow circuits [[1](#1)]. The idea is that if we knew that the thermal state was a pure state $\\psi$ (which means $\\rho=|\\psi \\rangle \\langle \\psi |$), we could apply QAOA to get to the thermal state of a target Hamiltonian. Since QAOA approximates the adiabatic pathway, it should be a conservative change, so at the end of it, we would be close to the thermal state of the target Hamiltonian.\n",
                "\n",
                "To find the thermal state of the simple system, the trick is to purify $\\rho$ on a larger Hilbert space. If we call $\\mathcal{H_1}$ our current Hilbert space, purifying a density matrix $\\rho$ consists of finding a second Hilbert space $\\mathcal{H_2}$ such that there exists $| \\psi \\rangle \\in \\mathcal{H_1} \\otimes \\mathcal{H_2}$ such that $\\rho = \\textrm{Tr}_{\\mathcal{H_2}} \\left( |\\psi \\rangle \\langle \\psi | \\right)$, where $\\textrm{Tr}_{\\mathcal{H_2}}$ is the partial trace taken over the second Hilbert space -- in essence, we are marginalizing the probability distribution. This resembles the idea of what we shown in the notebook on measurements and mixed states: if we trace out a subsystem of the maximally entangled state $|\\phi^+\\rangle$, we get the maximally mixed state. The maximally mixed state is essentially a thermal state at infinite temperature.\n",
                "\n",
                "It can be shown that $| \\psi \\rangle =\\sqrt{2 \\cosh 1\/T} \\sum_{z \\in {-1,1}} e^{- z\/T} |z \\rangle_{\\mathcal{H_1}} \\otimes | z \\rangle_{\\mathcal{H_2}}$ purifies $\\rho=\\frac{1}{Z}e^{- H_m\/T}$ [[1](#1)], where $H_m$ is the mixing Hamiltonian in QAOA. This state can be built with a circuit composed uniquely of RX gates and CNOT gates"
            ]
        },
        {
            "cell_type": "code",
            "execution_count": null,
            "metadata": {
                "ExecuteTime": {
                    "end_time": "2018-11-19T20:11:13.926133Z",
                    "start_time": "2018-11-19T20:11:12.766644Z"
                }
            },
            "outputs": [],
            "source": [
                "import itertools\n",
                "import numpy as np\n",
                "import matplotlib.pyplot as plt\n",
                "%matplotlib inline\n",
                "from functools import reduce, partial\n",
                "from scipy.optimize import minimize\n",
                "\n",
                "from qiskit import BasicAer, QuantumRegister, QuantumCircuit, ClassicalRegister\n",
                "from qiskit import execute\n",
                "from qiskit.quantum_info import Pauli\n",
                "from qiskit_aqua import get_aer_backend, QuantumInstance\n",
                "from qiskit_aqua.operator import Operator\n",
                "from qiskit_aqua.components.initial_states import Custom"
            ]
        },
        {
            "cell_type": "markdown",
            "metadata": {},
            "source": [
                "## High temperature"
            ]
        },
        {
            "cell_type": "markdown",
            "metadata": {},
            "source": [
                "We create an example system of two qubits that needs two extra qubits for purification. In this first example, we set $T=100$."
            ]
        },
        {
            "cell_type": "code",
            "execution_count": null,
            "metadata": {
                "ExecuteTime": {
                    "end_time": "2018-11-19T20:11:13.932601Z",
                    "start_time": "2018-11-19T20:11:13.928400Z"
                }
            },
            "outputs": [],
            "source": [
                "n_qubits = 2\n",
                "n_system = n_qubits * 2\n",
                "T = 1000"
            ]
        },
        {
            "cell_type": "markdown",
            "metadata": {},
            "source": [
                "We define a simple Ising model with a weight matrix and set $p=1$ in QAOA."
            ]
        },
        {
            "cell_type": "code",
            "execution_count": null,
            "metadata": {
                "ExecuteTime": {
                    "end_time": "2018-11-19T20:11:13.948745Z",
                    "start_time": "2018-11-19T20:11:13.937892Z"
                }
            },
            "outputs": [],
            "source": [
                "weights = np.array([[0,1],[0,0]])\n",
                "p = 1"
            ]
        },
        {
            "cell_type": "markdown",
            "metadata": {},
            "source": [
                "Based on these parameters, we define the Ising Hamiltonian $H=\\sum W_{ij} \\sigma_i\\sigma_j$ (for the weight matrix defined above, $H=\\sigma_1 \\sigma_2$, whose minimum is reached when $\\sigma_1 \\neq \\sigma_2$)"
            ]
        },
        {
            "cell_type": "code",
            "execution_count": null,
            "metadata": {
                "ExecuteTime": {
                    "end_time": "2018-11-19T20:11:13.984797Z",
                    "start_time": "2018-11-19T20:11:13.950693Z"
                }
            },
            "outputs": [],
            "source": [
                "def pauli_z(qubit, coeff):\n",
                "    eye = np.eye((n_system))\n",
                "    return Operator([[coeff, Pauli(eye[qubit], np.zeros(n_system))]])\n",
                "\n",
                "def pauli_x(qubit, coeff):\n",
                "    eye = np.eye((n_qubits))\n",
                "    return Operator([[coeff, Pauli(np.zeros(n_qubits), eye[qubit])]])\n",
                "\n",
                "def product_pauli_z(q1, q2, coeff):\n",
                "    eye = np.eye((n_system))\n",
                "    return Operator([[coeff, Pauli(eye[q1], np.zeros(n_system)) * Pauli(eye[q2], np.zeros(n_system))]])\n",
                "\n",
                "def ising_hamiltonian(weights):\n",
                "    H = reduce(lambda x,y:x+y,\n",
                "            [product_pauli_z(i,j, -weights[i,j])\n",
                "             for (i,j) in itertools.product(range(n_qubits), range(n_qubits))])\n",
                "    H.to_matrix()\n",
                "    return H"
            ]
        },
        {
            "cell_type": "code",
            "execution_count": null,
            "metadata": {},
            "outputs": [],
            "source": [
                "Hc = ising_hamiltonian(weights)"
            ]
        },
        {
            "cell_type": "markdown",
            "metadata": {},
            "source": [
                "We prepare the intial state $|\\psi_0 \\rangle = \\sqrt{2 cosh(1\/T)} \\sum_{z \\in {1, -1}} e^{- z\/T} | z \\rangle_S \\otimes | z \\rangle_E$, with $E$ a temporary space used for purification purpose. It can be shown that tracing out this state over $E$ reproduces the state $\\rho \\propto e^{-H_m\/T} $. We initialize the circuit first:"
            ]
        },
        {
            "cell_type": "code",
            "execution_count": null,
            "metadata": {
                "ExecuteTime": {
                    "end_time": "2018-11-19T20:11:13.996055Z",
                    "start_time": "2018-11-19T20:11:13.988499Z"
                }
            },
            "outputs": [],
            "source": [
                "qr = QuantumRegister(n_system)\n",
                "cr = ClassicalRegister(n_qubits)\n",
                "backend = BasicAer.get_backend('qasm_simulator')"
            ]
        },
        {
            "cell_type": "markdown",
            "metadata": {},
            "source": [
                "And we prepare the state:"
            ]
        },
        {
            "cell_type": "code",
            "execution_count": null,
            "metadata": {
                "ExecuteTime": {
                    "end_time": "2018-11-19T20:11:14.017731Z",
                    "start_time": "2018-11-19T20:11:14.010949Z"
                }
            },
            "outputs": [],
            "source": [
                "def prepare_init_state(T):\n",
                "    circuit_init = QuantumCircuit(qr, cr)\n",
                "    \u03b1 = 2 * np.arctan(np.exp(- 1\/(2*T)))\n",
                "    for i in range(n_qubits):\n",
                "        circuit_init.rx(\u03b1, qr[n_qubits+i])\n",
                "        circuit_init.cx(qr[n_qubits+i], qr[i])\n",
                "    return circuit_init"
            ]
        },
        {
            "cell_type": "markdown",
            "metadata": {},
            "source": [
                "We will now reuse the QAOA implementation of the previous notebook, with the above initial circuit appended to the regular variational circuit. Ideally, we would like to use the QAOA version implemented in Qiskit Aqua, but the current version does not allow to pass an initial circuit to QAOA (it's currently being implemented in the development version)."
            ]
        },
        {
            "cell_type": "code",
            "execution_count": null,
            "metadata": {
                "ExecuteTime": {
                    "end_time": "2018-11-19T20:11:14.032266Z",
                    "start_time": "2018-11-19T20:11:14.019967Z"
                }
            },
            "outputs": [],
            "source": [
                "def evolve(hamiltonian, angle, quantum_registers):\n",
                "    return hamiltonian.evolve(None, angle, 'circuit', 1,\n",
                "                              quantum_registers=quantum_registers,\n",
                "                              expansion_mode='suzuki',\n",
                "                              expansion_order=3)\n",
                "\n",
                "def create_circuit(beta, gamma, circuit_init):\n",
                "    init_state_vect = [1 for i in range(2**n_qubits)]\n",
                "    init_state = Custom(n_qubits, state_vector=init_state_vect)\n",
                "    init_state = init_state.construct_circuit('circuit', qr)\n",
                "    \n",
                "    Hm = reduce(lambda x, y: x+y,\n",
                "            [pauli_x(i, 1) for i in range(n_qubits)])\n",
                "    Hm.to_matrix()\n",
                "    \n",
                "    circuit_evolv = reduce(lambda x,y: x+y, [evolve(Hc, beta[i], qr) + evolve(Hm, gamma[i], qr)\n",
                "                                             for i in range(p)])\n",
                "    \n",
                "    circuit = circuit_init + init_state + circuit_evolv\n",
                "    return circuit\n",
                "\n",
                "def evaluate_circuit(beta_gamma, circuit_init):\n",
                "    p = len(beta_gamma)\/\/2\n",
                "    circuit = create_circuit(beta_gamma[:p], beta_gamma[p:], circuit_init)\n",
                "    return np.real(Hc.eval(\"matrix\", circuit, get_aer_backend('statevector_simulator'))[0])\n",
                "    \n",
                "def run_qaoa(circuit_init):\n",
                "    beta_init = np.random.uniform(0, np.pi*2, p)\n",
                "    gamma_init = np.random.uniform(0, np.pi*2, p)\n",
                "    evaluate = partial(evaluate_circuit, circuit_init=circuit_init)\n",
                "    result = minimize(evaluate, np.concatenate([beta_init, gamma_init]), method='L-BFGS-B')\n",
                "    \n",
                "    circuit = create_circuit(result['x'][:p], result['x'][p:], circuit_init)\n",
                "\n",
                "    return result[\"fun\"], circuit\n",
                "\n",
                "def get_thermal_state(T):\n",
                "    circuit_init = prepare_init_state(T)\n",
                "    return run_qaoa(circuit_init)"
            ]
        },
        {
            "cell_type": "markdown",
            "metadata": {},
            "source": [
                "We run the protocol to get the thermal state:"
            ]
        },
        {
            "cell_type": "code",
            "execution_count": null,
            "metadata": {},
            "outputs": [],
            "source": [
                "cost, thermal_state = get_thermal_state(T)\n",
                "print(\"Result of QAOA\", cost)"
            ]
        },
        {
            "cell_type": "markdown",
            "metadata": {},
            "source": [
                "Finally, we reformat the final results, measure out the result, and plot the energy distribution:"
            ]
        },
        {
            "cell_type": "code",
            "execution_count": null,
            "metadata": {},
            "outputs": [],
            "source": [
                "def get_energy(spin_configuration):\n",
                "    x = spin_configuration.reshape(-1, 1)\n",
                "    return np.sum([[-weights[i,j] * x[i] * x[j] for j in range(n_qubits)] for i in range(n_qubits)])\n",
                "\n",
                "def get_energy_distribution(thermal_state):\n",
                "    for i in range(n_qubits):\n",
                "        thermal_state.measure(qr[i], cr[i])\n",
                "        job = execute(thermal_state, backend, shots=1000)\n",
                "    results = job.result().get_counts(thermal_state)\n",
                "    \n",
                "    list_spin_configs = np.array(np.concatenate([[list(spin_config)] * results[spin_config] for spin_config in results]), dtype=\"int\")\n",
                "    list_spin_configs[list_spin_configs == 0] = -1\n",
                "    list_energy = np.array([get_energy(spin_config) for spin_config in list_spin_configs])\n",
                "    return list_energy"
            ]
        },
        {
            "cell_type": "code",
            "execution_count": null,
            "metadata": {
                "ExecuteTime": {
                    "end_time": "2018-11-19T20:11:44.601197Z",
                    "start_time": "2018-11-19T20:11:14.085143Z"
                }
            },
            "outputs": [],
            "source": [
                "list_energy = get_energy_distribution(thermal_state)\n",
                "hist = plt.hist(list_energy, density=True)"
            ]
        },
        {
            "cell_type": "markdown",
            "metadata": {},
            "source": [
                "The two eigenvalues, i.e. possible energies, of our Hamiltonian $H=\\sigma_1 \\sigma_2$ are $E=-1$ and $E=1$. At infinite temperature ($\\beta=0$), they should be assigned an equal probability, which is the case in the histogram above. Let's repeat the experiment at a lower temperature."
            ]
        },
        {
            "cell_type": "markdown",
            "metadata": {},
            "source": [
                "## Low temperature\n",
                "\n",
                "We set $T=0.5$. With this, we should get the lowest energy with a high probability."
            ]
        },
        {
            "cell_type": "code",
            "execution_count": null,
            "metadata": {},
            "outputs": [],
            "source": [
                "T = 0.5"
            ]
        },
        {
            "cell_type": "code",
            "execution_count": null,
            "metadata": {},
            "outputs": [],
            "source": [
                "cost, thermal_state = get_thermal_state(T)\n",
                "\n",
                "list_energy = get_energy_distribution(thermal_state)\n",
                "hist = plt.hist(list_energy, density=True)"
            ]
        },
        {
            "cell_type": "markdown",
            "metadata": {},
            "source": [
                "The minimum energy eigenstate should now have a much higher probability. Try to repeat the experiment with different $\\beta$ to see the effect of the temperature on the prepared thermal state."
            ]
        },
        {
            "cell_type": "markdown",
            "metadata": {
                "collapsed": true
            },
            "source": [
                "# References\n",
                "\n",
                "[1] Verdon, G., Broughton, M., Biamonte, J. (2017) [A quantum algorithm to train neural networks using low-depth circuits](https:\/\/arxiv.org\/abs\/1712.05304). *arXiv:1712.05304*. <a id='1'><\/a>"
            ]
        }
    ],
    "metadata": {
        "kernelspec": {
            "display_name": "Python 3",
            "language": "python",
            "name": "python3"
        },
        "language_info": {
            "codemirror_mode": {
                "name": "ipython",
                "version": 3
            },
            "file_extension": ".py",
            "mimetype": "text\/x-python",
            "name": "python",
            "nbconvert_exporter": "python",
            "pygments_lexer": "ipython3",
            "version": "3.7.1"
        }
    },
    "nbformat": 4,
    "nbformat_minor": 2
}