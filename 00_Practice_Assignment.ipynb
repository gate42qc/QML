{
    "cells": [
        {
            "cell_type": "markdown",
            "metadata": {},
            "source": [
                "Before you begin, execute this cell to import numpy and packages from the D-Wave Ocean suite, and all necessary functions the gate-model framework you are going to use, whether that is the Forest SDK or Qiskit. In the case of Forest SDK, it also starts the qvm and quilc servers."
            ]
        },
        {
            "cell_type": "code",
            "execution_count": null,
            "metadata": {
                "ExecuteTime": {
                    "end_time": "2019-02-05T21:07:29.676741Z",
                    "start_time": "2019-02-05T21:07:28.320068Z"
                },
                "collapsed": true,
                "nbgrader": {
                    "grade": false,
                    "locked": true,
                    "solution": false
                }
            },
            "outputs": [],
            "source": [
                "%run -i \"assignment_helper.py\""
            ]
        },
        {
            "cell_type": "markdown",
            "metadata": {},
            "source": [
                "**Exercise 1** (1 point). This is a test exercise to ensure that you understand how a Vocareum submission works and what the workflow is for completing the coding assignments. Set the value 5 in a variable called `a`."
            ]
        },
        {
            "cell_type": "code",
            "execution_count": null,
            "metadata": {
                "ExecuteTime": {
                    "end_time": "2019-02-05T21:08:29.444940Z",
                    "start_time": "2019-02-05T21:08:29.441792Z"
                },
                "collapsed": true
            },
            "outputs": [],
            "source": [
                "#\n",
                "# YOUR CODE HERE\n",
                "#\n"
            ]
        },
        {
            "cell_type": "markdown",
            "metadata": {},
            "source": [
                "The solution is evaluated in a cell with `assert` statements. Any exception raised in this cell will give you zero points for the exercise. Sometimes the assertions are hidden because they would give away the solution. Nevertheless, the evaluation side of the notebooks sees the content of the cell and will assign the points correctly. If the assertions are visible, you can ran the cell yourself to verify that your result is correct before submission. If you are stuck, don't be shy: start a discussion on the forum."
            ]
        },
        {
            "cell_type": "code",
            "execution_count": 6,
            "metadata": {
                "ExecuteTime": {
                    "end_time": "2019-02-05T21:15:52.103894Z",
                    "start_time": "2019-02-05T21:15:52.100732Z"
                },
                "collapsed": true,
                "nbgrader": {
                    "grade": true,
                    "grade_id": "exercise1",
                    "locked": true,
                    "points": "1",
                    "solution": false
                }
            },
            "outputs": [],
            "source": [
                "assert a == 5"
            ]
        }
    ],
    "metadata": {
        "kernelspec": {
            "display_name": "Python 3 [3.6]",
            "language": "python",
            "name": "python3"
        },
        "language_info": {
            "codemirror_mode": {
                "name": "ipython",
                "version": 3
            },
            "file_extension": ".py",
            "mimetype": "text\/x-python",
            "name": "python",
            "nbconvert_exporter": "python",
            "pygments_lexer": "ipython3",
            "version": "3.6.4"
        },
        "varInspector": {
            "cols": {
                "lenName": 16,
                "lenType": 16,
                "lenVar": 40
            },
            "kernels_config": {
                "python": {
                    "delete_cmd_postfix": "",
                    "delete_cmd_prefix": "del ",
                    "library": "var_list.py",
                    "varRefreshCmd": "print(var_dic_list())"
                },
                "r": {
                    "delete_cmd_postfix": ") ",
                    "delete_cmd_prefix": "rm(",
                    "library": "var_list.r",
                    "varRefreshCmd": "cat(var_dic_list()) "
                }
            },
            "types_to_exclude": [
                "module",
                "function",
                "builtin_function_or_method",
                "instance",
                "_Feature"
            ],
            "window_display": false
        }
    },
    "nbformat": 4,
    "nbformat_minor": 2
}