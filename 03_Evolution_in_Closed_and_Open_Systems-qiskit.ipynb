{
    "cells": [
        {
            "cell_type": "markdown",
            "metadata": {},
            "source": [
                "Classical probability distributions can be written as a stochastic vector, which can be transformed to another stochastic vector by applying a stochastic matrix. In other words, the evolution of stochastic vectors can be described by a stochastic matrix.\n",
                "\n",
                "Quantum states also evolve and their evolution is described by unitary matrices. This leads to some interesting properties in quantum computing. Unitary evolution is true for a closed system, that is, a quantum system perfectly isolated from the environment. This is not the case in the quantum computers we have today: these are open quantum systems that evolve differently due to to uncontrolled interactions with the environment. In this notebook, we take a glimpse at both types of evolution.\n",
                "\n",
                "\n",
                "# Unitary evolution\n",
                "\n",
                "A unitary matrix has the property that its conjugate transpose is its inverse. Formally, it means that a matrix $U$ is unitary if $UU^\\dagger=U^\\dagger U=\\mathbb{1}$, where $^\\dagger$ stands for conjugate transpose, and $\\mathbb{1}$ is the identity matrix. A quantum computer is a machine that implements unitary operations.\n",
                "\n",
                "As an example, we have seen the NOT operation before, which is performed by the X gate in a quantum computer. While the generic discussion on gates will only occur in a subsequent notebook, we can study the properties of the X gate. Its matrix representation is $X = \\begin{bmatrix} 0 & 1\\\\ 1 & 0\\end{bmatrix}$. Let's check if it is indeed unitary:"
            ]
        },
        {
            "cell_type": "code",
            "execution_count": null,
            "metadata": {
                "ExecuteTime": {
                    "end_time": "2018-11-19T19:49:07.614968Z",
                    "start_time": "2018-11-19T19:49:07.530927Z"
                }
            },
            "outputs": [],
            "source": [
                "import numpy as np\n",
                "X = np.array([[0, 1], [1, 0]])\n",
                "print(\"XX^dagger\")\n",
                "print(X.dot(X.T.conj()))\n",
                "print(\"X^daggerX\")\n",
                "print(X.T.conj().dot(X))"
            ]
        },
        {
            "cell_type": "markdown",
            "metadata": {},
            "source": [
                "It looks like a legitimate unitary operation. The unitary nature ensures that the $l_2$ norm is preserved, that is, quantum states are mapped to quantum states."
            ]
        },
        {
            "cell_type": "code",
            "execution_count": null,
            "metadata": {
                "ExecuteTime": {
                    "end_time": "2018-11-19T19:49:07.626531Z",
                    "start_time": "2018-11-19T19:49:07.618259Z"
                }
            },
            "outputs": [],
            "source": [
                "print(\"The norm of the state |0> before applying X\")\n",
                "zero_ket = np.array([[1], [0]])\n",
                "print(np.linalg.norm(zero_ket))\n",
                "print(\"The norm of the state after applying X\")\n",
                "print(np.linalg.norm(X.dot(zero_ket)))"
            ]
        },
        {
            "cell_type": "markdown",
            "metadata": {},
            "source": [
                "Furthermore, since the unitary operation is a matrix, it is linear. Measurements are also represented by matrices. These two observations imply that everything a quantum computer implements is actually linear. If we want to see some form of nonlinearity, that must involve some classical intervention.\n",
                "\n",
                "Another consequence of the unitary operations is reversibility. Any unitary operation can be reversed. Quantum computing libraries often provide a function to reverse entire circuits. Reversing the X gate is simple: we just apply it again (its conjugate transpose is itself, therefore $X^2=\\mathbb{1}$)."
            ]
        },
        {
            "cell_type": "code",
            "execution_count": null,
            "metadata": {
                "ExecuteTime": {
                    "end_time": "2018-11-19T19:49:08.710098Z",
                    "start_time": "2018-11-19T19:49:07.629733Z"
                }
            },
            "outputs": [],
            "source": [
                "import numpy as np\n",
                "from qiskit import QuantumCircuit, ClassicalRegister, QuantumRegister\n",
                "from qiskit import execute\n",
                "from qiskit import BasicAer\n",
                "from qiskit.tools.visualization import circuit_drawer\n",
                "np.set_printoptions(precision=3, suppress=True)\n",
                "\n",
                "backend_statevector = BasicAer.get_backend('statevector_simulator')\n",
                "q = QuantumRegister(1)\n",
                "c = ClassicalRegister(1)\n",
                "circuit = QuantumCircuit(q, c)\n",
                "circuit.x(q[0])\n",
                "circuit.x(q[0])\n",
                "job = execute(circuit, backend_statevector)\n",
                "print(job.result().get_statevector(circuit))"
            ]
        },
        {
            "cell_type": "markdown",
            "metadata": {},
            "source": [
                "which is exactly $|0\\rangle$ as we would expect.\n",
                "\n",
                "In the next notebook, you will learn about classical and quantum many-body systems and the Hamiltonian. In the notebook on adiabatic quantum computing, you will learn that a unitary operation is in fact the Schr\u00f6dinger equation solved for a Hamiltonian for some duration of time. This connects the computer science way of thinking about gates and unitary operations to actual physics, but there is some learning to be done before we can make that connection. Before that, let us take another look at the interaction with the environment."
            ]
        },
        {
            "cell_type": "markdown",
            "metadata": {},
            "source": [
                "# Interaction with the environment: open systems\n",
                "\n",
                "Actual quantum systems are seldom closed: they constantly interact with their environment in a largely uncontrolled fashion, which causes them to lose coherence. This is true for current and near-term quantum computers too.\n",
                "\n",
                "<img src=\"figures\/open_system.svg\" alt=\"A quantum processor as an open quantum system\" style=\"width: 400px;\"\/>\n",
                "\n",
                "This also means that their actual time evolution is not described by a unitary matrix as we would want it, but some other operator (the technical name for it is a completely positive trace-preserving map).\n",
                "\n",
                "Quantum computing libraries often offer a variety of noise models that mimic different types of interaction, and increasing the strength of the interaction with the environment leads to faster decoherence. The timescale for decoherence is often called $T_2$ time. Among a couple of other parameters, $T_2$ time is critically important for the number of gates or the duration of the quantum computation we can perform.\n",
                "\n",
                "A very cheap way of studying the effects of decoherence is mixing a pure state with the maximally mixed state $\\mathbb{1}\/2^d$, where $d$ is the number of qubits, with some visibility parameter in $[0,1]$. This way we do not have to specify noise models or any other map modelling decoherence. For instance, we can mix the $|\\phi^+\\rangle$ state with the maximally mixed state:"
            ]
        },
        {
            "cell_type": "code",
            "execution_count": null,
            "metadata": {
                "ExecuteTime": {
                    "end_time": "2018-11-19T19:49:08.730307Z",
                    "start_time": "2018-11-19T19:49:08.714253Z"
                }
            },
            "outputs": [],
            "source": [
                "def mixed_state(pure_state, visibility):\n",
                "    density_matrix = pure_state.dot(pure_state.T.conj())\n",
                "    maximally_mixed_state = np.eye(4)\/2**2\n",
                "    return visibility*density_matrix + (1-visibility)*maximally_mixed_state\n",
                "\n",
                "\u03d5 = np.array([[1],[0],[0],[1]])\/np.sqrt(2)\n",
                "print(\"Maximum visibility is a pure state:\")\n",
                "print(mixed_state(\u03d5, 1.0))\n",
                "print(\"The state is still entangled with visibility 0.8:\")\n",
                "print(mixed_state(\u03d5, 0.8))\n",
                "print(\"Entanglement is lost by 0.6:\")\n",
                "print(mixed_state(\u03d5, 0.6))\n",
                "print(\"Barely any coherence remains by 0.2:\")\n",
                "print(mixed_state(\u03d5, 0.2))"
            ]
        },
        {
            "cell_type": "markdown",
            "metadata": {},
            "source": [
                "Another way to look at what happens to a quantum state in an open system is through equilibrium processes. Think of a cup of coffee: left alone, it will equilibrate with the environment, eventually reaching the temperature of the environment. This includes energy exchange. A quantum state does the same thing and the environment has a defined temperature, just the environment of a cup of coffee.\n",
                "\n",
                "The equilibrium state is called the thermal state. It has a very specific structure and we will revisit it, but for now, suffice to say that the energy of the samples pulled out of a thermal state follows a Boltzmann distribution. The Boltzmann -- also called Gibbs -- distribution is described as $P(E_i) = \\frac {e^{-E_{i}\/T}}{\\sum _{j=1}^{M}{e^{-E_{j}\/T}}}$, where $E_i$ is an energy, and $M$ is the total number of possible energy levels. Temperature enters the definition: the higher the temperature, the closer we are to the uniform distribution. In the infinite temperature limit, it recovers the uniform distribution. At high temperatures, all energy levels have an equal probability. In contrast, at zero temperature, the entire probability mass is concentrated on the lowest energy level, the ground state energy. To get a sense of this, let's plot the Boltzmann distribution with vastly different temperatures:"
            ]
        },
        {
            "cell_type": "code",
            "execution_count": null,
            "metadata": {
                "ExecuteTime": {
                    "end_time": "2018-11-19T19:49:09.226294Z",
                    "start_time": "2018-11-19T19:49:08.733112Z"
                }
            },
            "outputs": [],
            "source": [
                "import matplotlib.pyplot as plt\n",
                "\n",
                "temperatures = [.5, 5, 2000]\n",
                "energies = np.linspace(0, 20, 100)\n",
                "fig, ax = plt.subplots()\n",
                "for i, T in enumerate(temperatures):\n",
                "    probabilities = np.exp(-energies\/T)\n",
                "    Z = probabilities.sum()\n",
                "    probabilities \/= Z\n",
                "    ax.plot(energies, probabilities, linewidth=3, label = \"$T_\" + str(i+1)+\"$\")\n",
                "ax.set_xlim(0, 20)\n",
                "ax.set_ylim(0, 1.2*probabilities.max())\n",
                "ax.set_xticks([])\n",
                "ax.set_yticks([])\n",
                "ax.set_xlabel('Energy')\n",
                "ax.set_ylabel('Probability')\n",
                "ax.legend()"
            ]
        },
        {
            "cell_type": "markdown",
            "metadata": {},
            "source": [
                "Here $T_1<T_2<T_3$. Notice that $T_1$ is a low temperature, and therefore it is highly peaked at low energy levels. In contrast, $T_3$ is a very high temperature and the probability distribution is almost completely flat."
            ]
        }
    ],
    "metadata": {
        "kernelspec": {
            "display_name": "Python 3",
            "language": "python",
            "name": "python3"
        },
        "language_info": {
            "codemirror_mode": {
                "name": "ipython",
                "version": 3
            },
            "file_extension": ".py",
            "mimetype": "text\/x-python",
            "name": "python",
            "nbconvert_exporter": "python",
            "pygments_lexer": "ipython3",
            "version": "3.7.1"
        }
    },
    "nbformat": 4,
    "nbformat_minor": 2
}