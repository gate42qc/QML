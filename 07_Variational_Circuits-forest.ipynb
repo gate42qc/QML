{
 "cells": [
  {
   "cell_type": "markdown",
   "metadata": {},
   "source": [
    "Current and near-term quantum computers suffer from imperfections, as we repeatedly pointed it out. This is why we cannot run long algorithms, that is, deep circuits on them. A new breed of algorithms started to appear since 2013 that focus on getting an advantage from imperfect quantum computers. The basic idea is extremely simple: run a short sequence of gates where some gates are parametrized. Then read out the result, make adjustments to the parameters on a classical computer, and repeat the calculation with the new parameters on the quantum hardware. This way we create an iterative loop between the quantum and the classical processing units, creating classical-quantum hybrid algorithms.\n",
    "\n",
    "<img src=\"figures/hybrid_classical_quantum.svg\" alt=\"Hybrid classical-quantum paradigm\" style=\"width: 400px;\"/>\n",
    "\n",
    "These algorithms are also called variational to reflect the variational approach to changing the parameters. One of the most important example of this approach is the quantum approximate optimization algorithm, which is the subject of this notebook."
   ]
  },
  {
   "cell_type": "markdown",
   "metadata": {},
   "source": [
    "# Quantum approximate optimization algorithm\n",
    "\n",
    "The quantum approximate optimization algorithm (QAOA) is shallow-circuit variational algorithm for gate-model quantum computers that was inspired by quantum annealing. We discretize the adiabatic pathway in some $p$ steps, where $p$ influences precision. Each discrete time step $i$ has two parameters, $\\beta_i, \\gamma_i$. The classical variational algorithms does an optimization over these parameters based on the observed energy at the end of a run on the quantum hardware.\n",
    "\n",
    "More formally, we want to discretize the time-dependent $H(t)=(1-t)H_0 + tH_1$ under adiabatic conditions. We achieve this by Trotterizing the unitary. For instance, for time step $t_0$, we can split this unitary as $U(t_0) = U(H_0, \\beta_0)U(H_1, \\gamma_0)$. We can continue doing this for subsequent time steps, eventually splitting up the evolution to $p$ such chunks:\n",
    "\n",
    "$$\n",
    "U = U(H_0, \\beta_0)U(H_1, \\gamma_0)\\ldots U(H_0, \\beta_p)U(H_1, \\gamma_p).\n",
    "$$\n",
    "\n",
    "At the end of optimizing the parameters, this discretized evolution will approximate the adiabatic pathway:\n",
    "\n",
    "<img src=\"figures/qaoa_process.svg\" alt=\"Quantum approximate optimization algorithm\" style=\"width: 400px;\"/>\n",
    "\n",
    "The Hamiltonian $H_0$ is often referred to as the driving or mixing Hamiltonian, and $H_1$ as the cost Hamiltonian. The simplest mixing Hamiltonian is $H_0 = -\\sum_i \\sigma^X_i$, the same as the initial Hamiltonian in quantum annealing. By alternating between the two Hamiltonian, the mixing Hamiltonian drives the state towards and equal superposition, whereas the cost Hamiltonian tries to seek its own ground state.\n",
    "\n",
    "Let us import the necessary packages first:"
   ]
  },
  {
   "cell_type": "code",
   "execution_count": 2,
   "metadata": {
    "ExecuteTime": {
     "end_time": "2019-01-30T17:38:20.676679Z",
     "start_time": "2019-01-30T17:38:20.271062Z"
    }
   },
   "outputs": [],
   "source": [
    "import numpy as np\n",
    "from functools import partial\n",
    "from pyquil import Program, api\n",
    "from pyquil.paulis import PauliSum, PauliTerm, exponential_map, sZ\n",
    "from pyquil.gates import *\n",
    "from scipy.optimize import minimize\n",
    "from forest_tools import *\n",
    "np.set_printoptions(precision=3, suppress=True)\n",
    "#qvm_server, quilc_server, fc = init_qvm_and_quilc('/home/local/bin/qvm', '/home/local/bin/quilc')"
   ]
  },
  {
   "cell_type": "code",
   "execution_count": null,
   "metadata": {
    "ExecuteTime": {
     "end_time": "2019-01-30T17:36:35.670725Z",
     "start_time": "2019-01-30T17:36:35.668569Z"
    }
   },
   "outputs": [],
   "source": [
    "n_qubits = 2"
   ]
  },
  {
   "cell_type": "markdown",
   "metadata": {},
   "source": [
    "Now we can define our mixing Hamiltonian on some qubits. As in the notebook on classical and quantum many-body physics, we had to define, for instance, an `IZ` operator to express $\\mathbb{I}\\otimes\\sigma_1^Z$, that is, the $\\sigma_1^Z$ operator acting only on qubit 1. We can achieve the same effect the following way (this time using the Pauli-X operator). The coefficient here means the strength of the transverse field at the given qubit. This operator will act trivially on all qubits, except the given one. Let's define the mixing Hamiltonian over two qubits:"
   ]
  },
  {
   "cell_type": "code",
   "execution_count": null,
   "metadata": {
    "ExecuteTime": {
     "end_time": "2019-01-30T17:36:36.754143Z",
     "start_time": "2019-01-30T17:36:36.750997Z"
    }
   },
   "outputs": [],
   "source": [
    "Hm = [PauliTerm(\"X\", i, 1.0) for i in range(n_qubits)]"
   ]
  },
  {
   "cell_type": "markdown",
   "metadata": {},
   "source": [
    "As an example, we will minimize the Ising problem defined by the cost Hamiltonian $H_c=-\\sigma^Z_1 \\otimes \\sigma^Z_2$, whose minimum is reached whenever $\\sigma^Z_1 = \\sigma^Z_2$ (for the states $|-1, -1\\rangle$, $|11\\rangle$ or any superposition of both)"
   ]
  },
  {
   "cell_type": "code",
   "execution_count": null,
   "metadata": {
    "ExecuteTime": {
     "end_time": "2019-01-30T17:36:47.321097Z",
     "start_time": "2019-01-30T17:36:47.316749Z"
    }
   },
   "outputs": [],
   "source": [
    "J = np.array([[0,1],[0,0]]) # weight matrix of the Ising model. Only the coefficient (0,1) is non-zero.\n",
    "\n",
    "Hc = []\n",
    "for i in range(n_qubits):\n",
    "    for j in range(n_qubits):\n",
    "        Hc.append(PauliTerm(\"Z\", i, -J[i, j]) * PauliTerm(\"Z\", j, 1.0))"
   ]
  },
  {
   "cell_type": "markdown",
   "metadata": {},
   "source": [
    "During the iterative procedure, we will need to compute $e^{-i \\beta H_c}$ and $e^{-i \\gamma H_m}$. Using the function `exponential_map` of PyQuil, we can build two functions that take respectively $\\beta$ and $\\gamma$ and return $e^{-i \\beta H_c}$ and $e^{-i \\gamma H_m}$"
   ]
  },
  {
   "cell_type": "code",
   "execution_count": null,
   "metadata": {
    "ExecuteTime": {
     "end_time": "2019-01-30T17:36:53.545299Z",
     "start_time": "2019-01-30T17:36:53.541361Z"
    }
   },
   "outputs": [],
   "source": [
    "exp_Hm = []\n",
    "exp_Hc = []\n",
    "for term in Hm:\n",
    "    exp_Hm.append(exponential_map(term))\n",
    "for term in Hc:\n",
    "    exp_Hc.append(exponential_map(term))"
   ]
  },
  {
   "cell_type": "markdown",
   "metadata": {},
   "source": [
    "We set $p=2$ and initialize the $\\gamma_i$ and $\\nu_i$ parameters:"
   ]
  },
  {
   "cell_type": "code",
   "execution_count": null,
   "metadata": {
    "ExecuteTime": {
     "end_time": "2019-01-30T17:36:56.524108Z",
     "start_time": "2019-01-30T17:36:56.520616Z"
    }
   },
   "outputs": [],
   "source": [
    "n_iter = 10 # number of iterations of the optimization procedure\n",
    "p = 1\n",
    "β = np.random.uniform(0, np.pi*2, p)\n",
    "γ = np.random.uniform(0, np.pi*2, p)"
   ]
  },
  {
   "cell_type": "markdown",
   "metadata": {},
   "source": [
    "The initial state is a uniform superposition of all the states $|q_1,...,q_n\\rangle$. It can be created using Hadamard gates on all the qubits |0> of an new program."
   ]
  },
  {
   "cell_type": "code",
   "execution_count": null,
   "metadata": {
    "ExecuteTime": {
     "end_time": "2019-01-30T17:36:57.452754Z",
     "start_time": "2019-01-30T17:36:57.449348Z"
    }
   },
   "outputs": [],
   "source": [
    "initial_state = Program()\n",
    "for i in range(n_qubits):\n",
    "    initial_state += H(i)"
   ]
  },
  {
   "cell_type": "markdown",
   "metadata": {},
   "source": [
    "To create the circuit, we need to compose the different unitary matrice given by `evolve`."
   ]
  },
  {
   "cell_type": "code",
   "execution_count": null,
   "metadata": {
    "ExecuteTime": {
     "end_time": "2019-01-30T17:37:13.232276Z",
     "start_time": "2019-01-30T17:37:13.226311Z"
    }
   },
   "outputs": [],
   "source": [
    "def create_circuit(β, γ):\n",
    "    circuit = Program()\n",
    "    circuit += initial_state\n",
    "    for i in range(p):\n",
    "        for term_exp_Hc in exp_Hc:\n",
    "            circuit += term_exp_Hc(-β[i])\n",
    "        for term_exp_Hm in exp_Hm:\n",
    "            circuit += term_exp_Hm(-γ[i])\n",
    "\n",
    "    return circuit"
   ]
  },
  {
   "cell_type": "markdown",
   "metadata": {},
   "source": [
    "We now create a function `evaluate_circuit` that takes a single vector `beta_gamma` (the concatenation of $\\beta$ and $\\gamma$) and returns $\\langle H_c \\rangle = \\langle \\psi | H_c | \\psi \\rangle$ where $\\psi$ is defined by the circuit created with the function above."
   ]
  },
  {
   "cell_type": "code",
   "execution_count": null,
   "metadata": {
    "ExecuteTime": {
     "end_time": "2019-01-30T17:37:19.443290Z",
     "start_time": "2019-01-30T17:37:19.439314Z"
    }
   },
   "outputs": [],
   "source": [
    "def evaluate_circuit(beta_gamma):\n",
    "    β = beta_gamma[:p]\n",
    "    γ = beta_gamma[p:]\n",
    "    circuit = create_circuit(β, γ)\n",
    "    return qvm.pauli_expectation(circuit, sum(Hc))"
   ]
  },
  {
   "cell_type": "markdown",
   "metadata": {},
   "source": [
    "Finally, we optimize the angles:"
   ]
  },
  {
   "cell_type": "code",
   "execution_count": null,
   "metadata": {
    "ExecuteTime": {
     "end_time": "2019-01-30T17:38:43.265534Z",
     "start_time": "2019-01-30T17:38:42.917905Z"
    }
   },
   "outputs": [],
   "source": [
    "qvm = api.QVMConnection(endpoint=fc.sync_endpoint, compiler_endpoint=fc.compiler_endpoint)\n",
    "\n",
    "result = minimize(evaluate_circuit, np.concatenate([β, γ]), method='L-BFGS-B')\n",
    "result"
   ]
  },
  {
   "cell_type": "markdown",
   "metadata": {},
   "source": [
    "# Analysis of the results\n",
    "\n",
    "We create a circuit using the optimal parameters found."
   ]
  },
  {
   "cell_type": "code",
   "execution_count": null,
   "metadata": {
    "ExecuteTime": {
     "end_time": "2019-01-30T17:39:07.261425Z",
     "start_time": "2019-01-30T17:39:07.257388Z"
    }
   },
   "outputs": [],
   "source": [
    "circuit = create_circuit(result['x'][:p], result['x'][p:])"
   ]
  },
  {
   "cell_type": "markdown",
   "metadata": {},
   "source": [
    "We use the `statevector_simulator` backend in order to display the state created by the circuit."
   ]
  },
  {
   "cell_type": "code",
   "execution_count": null,
   "metadata": {
    "ExecuteTime": {
     "end_time": "2019-01-30T17:39:35.621337Z",
     "start_time": "2019-01-30T17:39:35.601038Z"
    }
   },
   "outputs": [],
   "source": [
    "wf_sim = api.WavefunctionSimulator(connection=fc)\n",
    "state = wf_sim.wavefunction(circuit)\n",
    "print(state)"
   ]
  },
  {
   "cell_type": "markdown",
   "metadata": {},
   "source": [
    "We see that the state is approximately $(0.5 - 0.5i) \\left( |00 \\rangle + |11 \\rangle \\right) = e^{i \\theta} \\frac{1}{\\sqrt{2}} \\left( |00 \\rangle + |11 \\rangle \\right)$, where $\\theta$ is a phase factor that doesn't change the probabilities. It corresponds to a uniform superposition of the two solutions of the classicial problem: $(\\sigma_1=1$, $\\sigma_2=1)$ and $(\\sigma_1=-1$, $\\sigma_2=-1)$"
   ]
  },
  {
   "cell_type": "markdown",
   "metadata": {},
   "source": [
    "Let's now try to evaluate the operators $\\sigma^Z_1$ and $\\sigma^Z_2$ independently:"
   ]
  },
  {
   "cell_type": "code",
   "execution_count": null,
   "metadata": {
    "ExecuteTime": {
     "end_time": "2019-01-30T17:39:40.035352Z",
     "start_time": "2019-01-30T17:39:40.023427Z"
    }
   },
   "outputs": [],
   "source": [
    "print(qvm.pauli_expectation(circuit, PauliSum([sZ(0)])))\n",
    "print(qvm.pauli_expectation(circuit, PauliSum([sZ(1)])))"
   ]
  },
  {
   "cell_type": "markdown",
   "metadata": {},
   "source": [
    "We see that both are approximatively equal to zero. It's expected given the state we found above (both spins takes -1 and 1 half of the time). It corresponds to a typical quantum behavior where $\\mathbb{E}[\\sigma^Z_1 \\sigma^Z_2] \\neq \\mathbb{E}[\\sigma^Z_1] \\mathbb{E}[\\sigma^Z_2]$"
   ]
  }
 ],
 "metadata": {
  "kernelspec": {
   "display_name": "Python 3",
   "language": "python",
   "name": "python3"
  },
  "language_info": {
   "codemirror_mode": {
    "name": "ipython",
    "version": 3
   },
   "file_extension": ".py",
   "mimetype": "text/x-python",
   "name": "python",
   "nbconvert_exporter": "python",
   "pygments_lexer": "ipython3",
   "version": "3.6.4"
  },
  "varInspector": {
   "cols": {
    "lenName": 16,
    "lenType": 16,
    "lenVar": 40
   },
   "kernels_config": {
    "python": {
     "delete_cmd_postfix": "",
     "delete_cmd_prefix": "del ",
     "library": "var_list.py",
     "varRefreshCmd": "print(var_dic_list())"
    },
    "r": {
     "delete_cmd_postfix": ") ",
     "delete_cmd_prefix": "rm(",
     "library": "var_list.r",
     "varRefreshCmd": "cat(var_dic_list()) "
    }
   },
   "types_to_exclude": [
    "module",
    "function",
    "builtin_function_or_method",
    "instance",
    "_Feature"
   ],
   "window_display": false
  }
 },
 "nbformat": 4,
 "nbformat_minor": 2
}
