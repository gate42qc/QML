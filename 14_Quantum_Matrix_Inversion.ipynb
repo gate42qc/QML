{
 "cells": [
  {
   "cell_type": "markdown",
   "metadata": {},
   "source": [
    "Before you begin, execute this cell to import numpy and packages from the D-Wave Ocean suite, and all necessary functions the gate-model framework you are going to use, whether that is the Forest SDK or Qiskit. In the case of Forest SDK, it also starts the qvm and quilc servers."
   ]
  },
  {
   "cell_type": "code",
   "execution_count": 1,
   "metadata": {
    "deletable": false,
    "editable": false,
    "nbgrader": {
     "grade": false,
     "locked": true,
     "solution": false
    }
   },
   "outputs": [
    {
     "name": "stdout",
     "output_type": "stream",
     "text": [
      "Available frameworks:\n",
      "Forest SDK\n",
      "Qiskit\n",
      "D-Wave Ocean\n"
     ]
    }
   ],
   "source": [
    "%run -i \"assignment_helper.py\""
   ]
  },
  {
   "cell_type": "markdown",
   "metadata": {},
   "source": [
    "**Exercise 1** (1 point). We want to solve the equation $Ax=b$ with $A = \\begin{bmatrix}1 & 0 \\\\0 & -1 \\\\ \\end{bmatrix}$ and $b =\\begin{bmatrix} 0 \\\\ 1 \\\\ \\end{bmatrix}$ with quantum matrix inversion. We will encode $A$ in the unitary matrix $U=e^{iAt_0}$ with $t_0=\\pi/2$, and $b$ in a register. With the ancilla (qubit 0), the eigenvalue registers (or the ancilla qubits of phase estimation, qubits 1 and 2), and the eigenstate, you will need a total of four qubits and one classical register for post-selection. Prepare the superposition in the eigenvalue register and the vector $b$. Place your solution in an object called `hhl`."
   ]
  },
  {
   "cell_type": "code",
   "execution_count": 181,
   "metadata": {
    "collapsed": true
   },
   "outputs": [],
   "source": [
    "###\n",
    "### YOUR CODE HERE\n",
    "###\n",
    "import numpy as np\n",
    "import scipy.linalg\n",
    "from grove.alpha.phaseestimation.phase_estimation import controlled\n",
    "from pyquil import Program, get_qc\n",
    "from pyquil.gates import *\n",
    "hhl = Program()\n",
    "hhl += I(0)\n",
    "hhl += H(1)\n",
    "hhl += H(2)\n",
    "hhl += X(3)\n",
    "A = np.array([[1, 0], [0, -1]])"
   ]
  },
  {
   "cell_type": "code",
   "execution_count": 182,
   "metadata": {
    "collapsed": true,
    "deletable": false,
    "editable": false,
    "nbgrader": {
     "grade": true,
     "grade_id": "exercise1",
     "locked": true,
     "points": "1",
     "solution": false
    }
   },
   "outputs": [],
   "source": [
    "amplitudes = get_amplitudes(hhl)\n",
    "assert np.allclose(amplitudes, np.array([0. +0.j, 0. +0.j, 0. +0.j, 0. +0.j, 0. +0.j, 0. +0.j, 0. +0.j,\n",
    "       0. +0.j, 0.5+0.j, 0. +0.j, 0.5+0.j, 0. +0.j, 0.5+0.j, 0. +0.j, 0.5+0.j, 0. +0.j]))"
   ]
  },
  {
   "cell_type": "markdown",
   "metadata": {},
   "source": [
    "**Exercise 2** (2 points). Start the quantum phase estimation by applying $C-U^{2^0}$ and $C-U^{2^1}$. Extend the circuit with the two appropriate gates."
   ]
  },
  {
   "cell_type": "code",
   "execution_count": 183,
   "metadata": {},
   "outputs": [
    {
     "data": {
      "text/plain": [
       "array([[-1.+1.2246468e-16j,  0.+0.0000000e+00j],\n",
       "       [ 0.+0.0000000e+00j, -1.-1.2246468e-16j]])"
      ]
     },
     "execution_count": 183,
     "metadata": {},
     "output_type": "execute_result"
    }
   ],
   "source": [
    "scipy.linalg.expm(1j*np.pi*A)"
   ]
  },
  {
   "cell_type": "code",
   "execution_count": 184,
   "metadata": {
    "ExecuteTime": {
     "end_time": "2019-01-31T15:46:05.496117Z",
     "start_time": "2019-01-31T15:46:05.463504Z"
    }
   },
   "outputs": [],
   "source": [
    "###\n",
    "### YOUR CODE HERE\n",
    "###\n",
    "π = np.pi\n",
    "hhl.defgate('CONTROLLED-U0', controlled(scipy.linalg.expm(1j*π*A)))\n",
    "hhl += ('CONTROLLED-U0', 2, 3)\n",
    "#hhl += CZ(2, 3)\n",
    "hhl.defgate('CONTROLLED-U1', controlled(scipy.linalg.expm(2j*π*A)))\n",
    "hhl += ('CONTROLLED-U1', 1, 3)\n"
   ]
  },
  {
   "cell_type": "code",
   "execution_count": 185,
   "metadata": {
    "collapsed": true,
    "deletable": false,
    "editable": false,
    "nbgrader": {
     "grade": true,
     "grade_id": "exercise2",
     "locked": true,
     "points": "2",
     "solution": false
    }
   },
   "outputs": [],
   "source": [
    "amplitudes = get_amplitudes(hhl)\n",
    "assert np.allclose(amplitudes, np.array([ 0. +0.j,  0. +0.j,  0. +0.j,  0. +0.j,  0. +0.j,  0. +0.j,\n",
    "                                          0. +0.j,  0. +0.j,  0.5+0.j,  0. +0.j,  0.5+0.j,  0. +0.j,\n",
    "                                         -0.5+0.j,  0. +0.j, -0.5+0.j,  0. +0.j]))"
   ]
  },
  {
   "cell_type": "markdown",
   "metadata": {},
   "source": [
    "**Exercise 3** (1 point). Apply the quantum inverse Fourier transformation. Don't forget the swap just before the transformation."
   ]
  },
  {
   "cell_type": "code",
   "execution_count": 186,
   "metadata": {
    "ExecuteTime": {
     "end_time": "2019-01-31T15:46:05.500661Z",
     "start_time": "2019-01-31T15:46:05.497677Z"
    },
    "collapsed": true
   },
   "outputs": [],
   "source": [
    "###\n",
    "### YOUR CODE HERE\n",
    "###\n",
    "hhl += SWAP(1, 2)\n",
    "hhl += H(2)\n",
    "hhl.defgate('CSdag', controlled(np.array([[1, 0], [0, -1j]])))\n",
    "hhl += ('CSdag', 1, 2)\n",
    "hhl += H(1);"
   ]
  },
  {
   "cell_type": "code",
   "execution_count": 187,
   "metadata": {
    "deletable": false,
    "editable": false,
    "nbgrader": {
     "grade": true,
     "grade_id": "exercise3",
     "locked": true,
     "points": "1",
     "solution": false
    }
   },
   "outputs": [],
   "source": [
    "amplitudes = get_amplitudes(hhl)\n",
    "assert np.allclose(amplitudes, np.array([0.+0.j, 0.+0.j, 0.+0.j, 0.+0.j, 0.+0.j, 0.+0.j, 0.+0.j, 0.+0.j,\n",
    "                                         0.+0.j, 0.+0.j, 1.+0.j, 0.+0.j, 0.+0.j, 0.+0.j, 0.+0.j, 0.+0.j]))"
   ]
  },
  {
   "cell_type": "markdown",
   "metadata": {},
   "source": [
    "**Exercise 4** (1 point). After this step, swap the eigenvalue registers again (this time to perform the inversion) and apply the controlled rotation. Use the same angle as in the lecture notebook."
   ]
  },
  {
   "cell_type": "code",
   "execution_count": 188,
   "metadata": {
    "ExecuteTime": {
     "end_time": "2019-01-31T15:46:05.508179Z",
     "start_time": "2019-01-31T15:46:05.502279Z"
    }
   },
   "outputs": [
    {
     "name": "stdout",
     "output_type": "stream",
     "text": [
      "[ 0.00000000e+00+0.00000000e+00j  0.00000000e+00+0.00000000e+00j\n",
      "  0.00000000e+00+0.00000000e+00j  0.00000000e+00+0.00000000e+00j\n",
      "  0.00000000e+00+0.00000000e+00j  0.00000000e+00+0.00000000e+00j\n",
      "  0.00000000e+00+0.00000000e+00j  0.00000000e+00+0.00000000e+00j\n",
      "  0.00000000e+00-6.12323400e-17j  0.00000000e+00+0.00000000e+00j\n",
      "  6.00557777e-17-6.00557777e-17j  1.19458369e-17-1.19458369e-17j\n",
      "  9.95184727e-01+1.82812469e-16j  9.80171403e-02+1.80054566e-17j\n",
      " -5.85956960e-17-5.85956960e-17j -1.77748100e-17-1.77748100e-17j]\n"
     ]
    }
   ],
   "source": [
    "###\n",
    "### YOUR CODE HERE\n",
    "###\n",
    "hhl += SWAP(1, 2)\n",
    "\n",
    "def rY(angle):\n",
    "    '''Generate a rotation matrix over the Y axis in the Bloch sphere.\n",
    "    \n",
    "    :param angle: (float) The angle of rotation.\n",
    "\n",
    "    :return: (numpy.ndarray) The rotation matrix\n",
    "    '''\n",
    "    return np.array([[np.cos(angle/2), -np.sin(angle/2)],\n",
    "                     [np.sin(angle/2), np.cos(angle/2)]])\n",
    "\n",
    "\n",
    "hhl.defgate('CRy0', controlled(rY(2*π/2**4)))\n",
    "hhl += ('CRy0', 1, 0)\n",
    "hhl.defgate('CRy1', controlled(rY(π/2**4)))\n",
    "hhl += ('CRy1', 2, 0)\n",
    "print(get_amplitudes(hhl)) "
   ]
  },
  {
   "cell_type": "code",
   "execution_count": 189,
   "metadata": {
    "collapsed": true,
    "deletable": false,
    "editable": false,
    "nbgrader": {
     "grade": true,
     "grade_id": "exercise4",
     "locked": true,
     "points": "1",
     "solution": false
    }
   },
   "outputs": [],
   "source": [
    "amplitudes = get_amplitudes(hhl)\n",
    "assert np.allclose(amplitudes, np.array([0.        +0.j, 0.        +0.j, 0.        +0.j, 0.        +0.j,\n",
    "                                         0.        +0.j, 0.        +0.j, 0.        +0.j, 0.        +0.j,\n",
    "                                         0.        +0.j, 0.        +0.j, 0.        +0.j, 0.        +0.j,\n",
    "                                         0.99518473+0.j, 0.09801714+0.j, 0.        +0.j, 0.        +0.j]))"
   ]
  },
  {
   "cell_type": "markdown",
   "metadata": {},
   "source": [
    "**Exercise 5** (2 points). Uncompute the eigenvalue register"
   ]
  },
  {
   "cell_type": "code",
   "execution_count": 190,
   "metadata": {},
   "outputs": [],
   "source": [
    "###\n",
    "### YOUR CODE HERE\n",
    "###\n",
    "# uncompute the 012 regs\n",
    "hhl += SWAP(1,2)\n",
    "hhl += H(1)\n",
    "hhl.defgate('CS', controlled(np.array([[1, 0], [0, 1j]])))\n",
    "hhl += ('CS', 1, 2)\n",
    "hhl += H(2)\n",
    "hhl += SWAP(1,2)\n",
    "hhl.defgate('CONTROLLED-U1dag', controlled(scipy.linalg.expm(-2j*π*A)))\n",
    "hhl += ('CONTROLLED-U1dag', 1, 3)\n",
    "hhl.defgate('CONTROLLED-U0dag', controlled(scipy.linalg.expm(-1j*π*A)))\n",
    "hhl += ('CONTROLLED-U0dag', 2, 3)\n",
    "hhl += H(2)\n",
    "hhl += H(1)"
   ]
  },
  {
   "cell_type": "code",
   "execution_count": 191,
   "metadata": {
    "scrolled": false
   },
   "outputs": [
    {
     "name": "stdout",
     "output_type": "stream",
     "text": [
      "[0.        +0.00000000e+00j 0.        +0.00000000e+00j\n",
      " 0.        +0.00000000e+00j 0.        +0.00000000e+00j\n",
      " 0.        +0.00000000e+00j 0.        +0.00000000e+00j\n",
      " 0.        +0.00000000e+00j 0.        +0.00000000e+00j\n",
      " 0.99518473+6.16297582e-33j 0.09801714+0.00000000e+00j\n",
      " 0.        +3.22350534e-18j 0.        -1.77170092e-17j\n",
      " 0.        -2.94850453e-19j 0.        +6.00181886e-18j\n",
      " 0.        -6.11482757e-33j 0.        +3.85185989e-34j]\n"
     ]
    }
   ],
   "source": [
    "print(get_amplitudes(hhl))"
   ]
  },
  {
   "cell_type": "code",
   "execution_count": 192,
   "metadata": {
    "deletable": false,
    "editable": false,
    "nbgrader": {
     "grade": true,
     "grade_id": "exercise5",
     "locked": true,
     "points": "2",
     "solution": false
    }
   },
   "outputs": [],
   "source": [
    "amplitudes = get_amplitudes(hhl)\n",
    "assert np.allclose(amplitudes, np.array([0.        +0.j, 0.        +0.j, 0.        +0.j, 0.        +0.j,\n",
    "                                         0.        +0.j, 0.        +0.j, 0.        +0.j, 0.        +0.j,\n",
    "                                         0.99518473+0.j, 0.09801714+0.j, 0.        +0.j, 0.        +0.j,\n",
    "                                         0.        +0.j, 0.        +0.j, 0.        +0.j, 0.        +0.j]))"
   ]
  },
  {
   "cell_type": "markdown",
   "metadata": {},
   "source": [
    "At this point, if we measure 1 in the ancilla (qubit 0), the state will be proportional to $A^{-1}b = \\sum_j \\beta_j\\lambda_j^{-1}\\left|u_j\\right\\rangle=0 \\frac{1}{1} |0\\rangle + 1 \\frac{1}{-1} |1\\rangle=-|1\\rangle$."
   ]
  }
 ],
 "metadata": {
  "kernelspec": {
   "display_name": "Python 3 [3.6]",
   "language": "python",
   "name": "python3"
  },
  "language_info": {
   "codemirror_mode": {
    "name": "ipython",
    "version": 3
   },
   "file_extension": ".py",
   "mimetype": "text/x-python",
   "name": "python",
   "nbconvert_exporter": "python",
   "pygments_lexer": "ipython3",
   "version": "3.6.4"
  },
  "varInspector": {
   "cols": {
    "lenName": 16,
    "lenType": 16,
    "lenVar": 40
   },
   "kernels_config": {
    "python": {
     "delete_cmd_postfix": "",
     "delete_cmd_prefix": "del ",
     "library": "var_list.py",
     "varRefreshCmd": "print(var_dic_list())"
    },
    "r": {
     "delete_cmd_postfix": ") ",
     "delete_cmd_prefix": "rm(",
     "library": "var_list.r",
     "varRefreshCmd": "cat(var_dic_list()) "
    }
   },
   "types_to_exclude": [
    "module",
    "function",
    "builtin_function_or_method",
    "instance",
    "_Feature"
   ],
   "window_display": false
  }
 },
 "nbformat": 4,
 "nbformat_minor": 2
}
